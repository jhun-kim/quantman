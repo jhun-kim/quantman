{
 "cells": [
  {
   "cell_type": "code",
   "execution_count": 1,
   "metadata": {},
   "outputs": [
    {
     "name": "stdout",
     "output_type": "stream",
     "text": [
      "python run_binary_preprocessing.py \"BBNI.JK\" \"20\" \"50\"\n",
      "python generatedata.py \"dataset\" \"20_50/BBNI.JK\" \"dataset_BBNIJK_20_50\" \n",
      "python myDeepCNN.py \"-i\" \"dataset/dataset_BBNIJK_20_50\" \"-e\" \"50\" \"-d\" \"50\" \"-b\" \"8\" \"-o\" \"outputresult.txt\"\n"
     ]
    }
   ],
   "source": [
    "import subprocess\n",
    "\n",
    "try:\n",
    "    print(f'python run_binary_preprocessing.py \"BBNI.JK\" \"20\" \"50\"')\n",
    "    subprocess.call(f'python run_binary_preprocessing.py  \"BBNI.JK\" \"20\" \"50\" ', shell=True)\n",
    "\n",
    "    print(f'python generatedata.py \"dataset\" \"20_50/BBNI.JK\" \"dataset_BBNIJK_20_50\" ')\n",
    "    subprocess.call(f'python generatedata.py \"dataset\" \"20_50/BBNI.JK\" \"dataset_BBNIJK_20_50\" ', shell=True)\n",
    "\n",
    "    print(f'python myDeepCNN.py \"-i\" \"dataset/dataset_BBNIJK_20_50\" \"-e\" \"50\" \"-d\" \"50\" \"-b\" \"8\" \"-o\" \"outputresult.txt\"')\n",
    "    subprocess.call(f'python myDeepCNN.py \"-i\" \"dataset/dataset_BBNIJK_20_50\" \"-e\" \"50\" \"-d\" \"50\" \"-b\" \"8\" \"-o\" \"outputresult.txt\"', shell=True)\n",
    "except Exception as identifier:\n",
    "    print(identifier)"
   ]
  },
  {
   "cell_type": "code",
   "execution_count": null,
   "metadata": {},
   "outputs": [],
   "source": []
  }
 ],
 "metadata": {
  "interpreter": {
   "hash": "a0e1a72cc3f286b5e1823aeaff197746ac050c8c5ae7866db42f07c85c3611bc"
  },
  "kernelspec": {
   "display_name": "Python 3.10.4 64-bit",
   "language": "python",
   "name": "python3"
  },
  "language_info": {
   "codemirror_mode": {
    "name": "ipython",
    "version": 3
   },
   "file_extension": ".py",
   "mimetype": "text/x-python",
   "name": "python",
   "nbconvert_exporter": "python",
   "pygments_lexer": "ipython3",
   "version": "3.10.4"
  }
 },
 "nbformat": 4,
 "nbformat_minor": 4
}
